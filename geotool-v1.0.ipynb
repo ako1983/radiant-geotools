{
 "cells": [
  {
   "cell_type": "code",
   "execution_count": null,
   "metadata": {
    "collapsed": true
   },
   "outputs": [],
   "source": [
    "import requests\n",
    "from pprint import pprint\n",
    "import os\n",
    "import subprocess\n",
    "import boto3\n",
    "from bravado.requests_client import RequestsClient\n",
    "from bravado.client import SwaggerClient\n",
    "import folium\n",
    "from ipyleaflet import *\n",
    "import rasterio\n",
    "from rasterio.plot import show, show_hist\n",
    "from matplotlib import pyplot\n",
    "import datetime\n",
    "from retrying import retry\n",
    "import time\n",
    "\n",
    "# while useful, the python bindings for gdal don't yet include\n",
    "# its full functionality. Run gdal from the command line or\n",
    "# use \"!gdalinfo [args] (or whichever cli gdal command you like)\n",
    "# to run commands from the notebook\n",
    "from osgeo import gdal"
   ]
  },
  {
   "cell_type": "markdown",
   "metadata": {},
   "source": [
    "## Genarating your API key\n"
   ]
  },
  {
   "cell_type": "markdown",
   "metadata": {},
   "source": [
    "Radiant's platform uses a refresh-session token system to connect to the backend. Session tokens are ephemeral (they expire), so we can use a Swagger Client object to generate a persistent API key."
   ]
  },
  {
   "cell_type": "code",
   "execution_count": null,
   "metadata": {
    "collapsed": true
   },
   "outputs": [],
   "source": [
    " def generate_api_key(refresh_token):\n",
    "    \"\"\"\n",
    "    Use the refresh token you created at\n",
    "    https://app.radiant.earth/user/me/settings/api-tokens\n",
    "    to generate an API token.\n",
    "    \"\"\"\n",
    "\n",
    "    http_client = RequestsClient()\n",
    "\n",
    "    spec_url = 'https://raw.githubusercontent.com/radiantearth/radiantearth-python-client/dev/radiantearth/spec.yml'\n",
    "\n",
    "    config = {'validate_responses': False}\n",
    "    client = SwaggerClient.from_url(spec_url, http_client=http_client, config=config)\n",
    "    post_body = {'refresh_token': refresh_token}\n",
    "    api_key = client.Authentication.post_tokens(\n",
    "                    refreshToken=post_body).future.result().json()['id_token']\n",
    "    \n",
    "    return api_key"
   ]
  },
  {
   "cell_type": "code",
   "execution_count": null,
   "metadata": {
    "collapsed": true
   },
   "outputs": [],
   "source": [
    "api_key = generate_api_key('VGlFKlygOSMBEgYYouCy5RVuo3yq4ETUyXr3rHUSUe4gD')\n",
    "\n",
    "base_url = \"https://api.radiant.earth/platform/\"\n",
    "\n",
    "headers = {\"Authorization\": api_key,\n",
    "          \"Accept\": \"application/json\"\n",
    "          }"
   ]
  },
  {
   "cell_type": "code",
   "execution_count": null,
   "metadata": {
    "collapsed": true
   },
   "outputs": [],
   "source": [
    "!gdalinfo /workdir/HHNorthExport/HHNorthExport.tif"
   ]
  },
  {
   "cell_type": "code",
   "execution_count": null,
   "metadata": {
    "collapsed": true
   },
   "outputs": [],
   "source": []
  }
 ],
 "metadata": {
  "kernelspec": {
   "display_name": "Python [conda root]",
   "language": "python",
   "name": "conda-root-py"
  },
  "language_info": {
   "codemirror_mode": {
    "name": "ipython",
    "version": 3
   },
   "file_extension": ".py",
   "mimetype": "text/x-python",
   "name": "python",
   "nbconvert_exporter": "python",
   "pygments_lexer": "ipython3",
   "version": "3.6.3"
  }
 },
 "nbformat": 4,
 "nbformat_minor": 2
}
